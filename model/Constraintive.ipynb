{
 "cells": [
  {
   "cell_type": "code",
   "metadata": {
    "colab": {
     "base_uri": "https://localhost:8080/"
    },
    "id": "7azzfIOOYMlc",
    "outputId": "6227ca8e-7d53-45ad-af6d-a52e6f703283",
    "ExecuteTime": {
     "end_time": "2025-02-22T23:26:45.819178Z",
     "start_time": "2025-02-22T23:26:45.763935Z"
    }
   },
   "source": [
    "import os                                   # Made to be run on Colab\n",
    "import requests                            \n",
    "import zipfile\n",
    "from io import BytesIO"
   ],
   "outputs": [],
   "execution_count": 1
  },
  {
   "cell_type": "code",
   "metadata": {
    "colab": {
     "base_uri": "https://localhost:8080/"
    },
    "id": "Lf7Y_nMU5jWx",
    "outputId": "cfc9f617-f3c6-4951-b8f7-7d5de55a8b40",
    "ExecuteTime": {
     "end_time": "2025-02-22T23:26:47.679821Z",
     "start_time": "2025-02-22T23:26:47.384394Z"
    }
   },
   "source": [
    "!git clone https://github.com/taesungp/contrastive-unpaired-translation CUT"
   ],
   "outputs": [
    {
     "name": "stdout",
     "output_type": "stream",
     "text": [
      "fatal: destination path 'CUT' already exists and is not an empty directory.\r\n"
     ]
    }
   ],
   "execution_count": 3
  },
  {
   "cell_type": "code",
   "metadata": {
    "id": "QsFIUBUXPSeG",
    "ExecuteTime": {
     "end_time": "2025-02-22T23:27:03.327344Z",
     "start_time": "2025-02-22T23:27:03.072852Z"
    }
   },
   "source": [
    "!cd CUT"
   ],
   "outputs": [],
   "execution_count": 4
  },
  {
   "cell_type": "code",
   "metadata": {
    "colab": {
     "base_uri": "https://localhost:8080/"
    },
    "id": "CGA0kbrrd3zZ",
    "outputId": "20d69cea-a467-40df-e469-45a0b48c3b4d",
    "ExecuteTime": {
     "end_time": "2025-02-22T23:28:26.711664Z",
     "start_time": "2025-02-22T23:28:21.948603Z"
    }
   },
   "source": [
    "!pip install -r CUT/requirements.txt"
   ],
   "outputs": [
    {
     "name": "stdout",
     "output_type": "stream",
     "text": [
      "Requirement already satisfied: torch>=1.4.0 in /home/venkat/anaconda3/envs/Hacklytics_Hackathon/lib/python3.12/site-packages (from -r CUT/requirements.txt (line 1)) (2.6.0+cu124)\r\n",
      "Requirement already satisfied: torchvision>=0.5.0 in /home/venkat/anaconda3/envs/Hacklytics_Hackathon/lib/python3.12/site-packages (from -r CUT/requirements.txt (line 2)) (0.21.0+cu124)\r\n",
      "Collecting dominate>=2.4.0 (from -r CUT/requirements.txt (line 3))\r\n",
      "  Downloading dominate-2.9.1-py2.py3-none-any.whl.metadata (13 kB)\r\n",
      "Collecting visdom>=0.1.8.8 (from -r CUT/requirements.txt (line 4))\r\n",
      "  Downloading visdom-0.2.4.tar.gz (1.4 MB)\r\n",
      "\u001B[2K     \u001B[90m━━━━━━━━━━━━━━━━━━━━━━━━━━━━━━━━━━━━━━━━\u001B[0m \u001B[32m1.4/1.4 MB\u001B[0m \u001B[31m18.9 MB/s\u001B[0m eta \u001B[36m0:00:00\u001B[0m\r\n",
      "\u001B[?25h  Preparing metadata (setup.py) ... \u001B[?25ldone\r\n",
      "\u001B[?25hRequirement already satisfied: packaging in /home/venkat/anaconda3/envs/Hacklytics_Hackathon/lib/python3.12/site-packages (from -r CUT/requirements.txt (line 5)) (24.2)\r\n",
      "Collecting GPUtil>=1.4.0 (from -r CUT/requirements.txt (line 6))\r\n",
      "  Downloading GPUtil-1.4.0.tar.gz (5.5 kB)\r\n",
      "  Preparing metadata (setup.py) ... \u001B[?25ldone\r\n",
      "\u001B[?25hRequirement already satisfied: filelock in /home/venkat/anaconda3/envs/Hacklytics_Hackathon/lib/python3.12/site-packages (from torch>=1.4.0->-r CUT/requirements.txt (line 1)) (3.13.1)\r\n",
      "Requirement already satisfied: typing-extensions>=4.10.0 in /home/venkat/anaconda3/envs/Hacklytics_Hackathon/lib/python3.12/site-packages (from torch>=1.4.0->-r CUT/requirements.txt (line 1)) (4.12.2)\r\n",
      "Requirement already satisfied: networkx in /home/venkat/anaconda3/envs/Hacklytics_Hackathon/lib/python3.12/site-packages (from torch>=1.4.0->-r CUT/requirements.txt (line 1)) (3.3)\r\n",
      "Requirement already satisfied: jinja2 in /home/venkat/anaconda3/envs/Hacklytics_Hackathon/lib/python3.12/site-packages (from torch>=1.4.0->-r CUT/requirements.txt (line 1)) (3.1.5)\r\n",
      "Requirement already satisfied: fsspec in /home/venkat/anaconda3/envs/Hacklytics_Hackathon/lib/python3.12/site-packages (from torch>=1.4.0->-r CUT/requirements.txt (line 1)) (2024.6.1)\r\n",
      "Requirement already satisfied: nvidia-cuda-nvrtc-cu12==12.4.127 in /home/venkat/anaconda3/envs/Hacklytics_Hackathon/lib/python3.12/site-packages (from torch>=1.4.0->-r CUT/requirements.txt (line 1)) (12.4.127)\r\n",
      "Requirement already satisfied: nvidia-cuda-runtime-cu12==12.4.127 in /home/venkat/anaconda3/envs/Hacklytics_Hackathon/lib/python3.12/site-packages (from torch>=1.4.0->-r CUT/requirements.txt (line 1)) (12.4.127)\r\n",
      "Requirement already satisfied: nvidia-cuda-cupti-cu12==12.4.127 in /home/venkat/anaconda3/envs/Hacklytics_Hackathon/lib/python3.12/site-packages (from torch>=1.4.0->-r CUT/requirements.txt (line 1)) (12.4.127)\r\n",
      "Requirement already satisfied: nvidia-cudnn-cu12==9.1.0.70 in /home/venkat/anaconda3/envs/Hacklytics_Hackathon/lib/python3.12/site-packages (from torch>=1.4.0->-r CUT/requirements.txt (line 1)) (9.1.0.70)\r\n",
      "Requirement already satisfied: nvidia-cublas-cu12==12.4.5.8 in /home/venkat/anaconda3/envs/Hacklytics_Hackathon/lib/python3.12/site-packages (from torch>=1.4.0->-r CUT/requirements.txt (line 1)) (12.4.5.8)\r\n",
      "Requirement already satisfied: nvidia-cufft-cu12==11.2.1.3 in /home/venkat/anaconda3/envs/Hacklytics_Hackathon/lib/python3.12/site-packages (from torch>=1.4.0->-r CUT/requirements.txt (line 1)) (11.2.1.3)\r\n",
      "Requirement already satisfied: nvidia-curand-cu12==10.3.5.147 in /home/venkat/anaconda3/envs/Hacklytics_Hackathon/lib/python3.12/site-packages (from torch>=1.4.0->-r CUT/requirements.txt (line 1)) (10.3.5.147)\r\n",
      "Requirement already satisfied: nvidia-cusolver-cu12==11.6.1.9 in /home/venkat/anaconda3/envs/Hacklytics_Hackathon/lib/python3.12/site-packages (from torch>=1.4.0->-r CUT/requirements.txt (line 1)) (11.6.1.9)\r\n",
      "Requirement already satisfied: nvidia-cusparse-cu12==12.3.1.170 in /home/venkat/anaconda3/envs/Hacklytics_Hackathon/lib/python3.12/site-packages (from torch>=1.4.0->-r CUT/requirements.txt (line 1)) (12.3.1.170)\r\n",
      "Requirement already satisfied: nvidia-cusparselt-cu12==0.6.2 in /home/venkat/anaconda3/envs/Hacklytics_Hackathon/lib/python3.12/site-packages (from torch>=1.4.0->-r CUT/requirements.txt (line 1)) (0.6.2)\r\n",
      "Requirement already satisfied: nvidia-nccl-cu12==2.21.5 in /home/venkat/anaconda3/envs/Hacklytics_Hackathon/lib/python3.12/site-packages (from torch>=1.4.0->-r CUT/requirements.txt (line 1)) (2.21.5)\r\n",
      "Requirement already satisfied: nvidia-nvtx-cu12==12.4.127 in /home/venkat/anaconda3/envs/Hacklytics_Hackathon/lib/python3.12/site-packages (from torch>=1.4.0->-r CUT/requirements.txt (line 1)) (12.4.127)\r\n",
      "Requirement already satisfied: nvidia-nvjitlink-cu12==12.4.127 in /home/venkat/anaconda3/envs/Hacklytics_Hackathon/lib/python3.12/site-packages (from torch>=1.4.0->-r CUT/requirements.txt (line 1)) (12.4.127)\r\n",
      "Requirement already satisfied: triton==3.2.0 in /home/venkat/anaconda3/envs/Hacklytics_Hackathon/lib/python3.12/site-packages (from torch>=1.4.0->-r CUT/requirements.txt (line 1)) (3.2.0)\r\n",
      "Requirement already satisfied: setuptools in /home/venkat/anaconda3/envs/Hacklytics_Hackathon/lib/python3.12/site-packages (from torch>=1.4.0->-r CUT/requirements.txt (line 1)) (75.8.0)\r\n",
      "Requirement already satisfied: sympy==1.13.1 in /home/venkat/anaconda3/envs/Hacklytics_Hackathon/lib/python3.12/site-packages (from torch>=1.4.0->-r CUT/requirements.txt (line 1)) (1.13.1)\r\n",
      "Requirement already satisfied: mpmath<1.4,>=1.1.0 in /home/venkat/anaconda3/envs/Hacklytics_Hackathon/lib/python3.12/site-packages (from sympy==1.13.1->torch>=1.4.0->-r CUT/requirements.txt (line 1)) (1.3.0)\r\n",
      "Requirement already satisfied: numpy in /home/venkat/anaconda3/envs/Hacklytics_Hackathon/lib/python3.12/site-packages (from torchvision>=0.5.0->-r CUT/requirements.txt (line 2)) (2.0.2)\r\n",
      "Requirement already satisfied: pillow!=8.3.*,>=5.3.0 in /home/venkat/anaconda3/envs/Hacklytics_Hackathon/lib/python3.12/site-packages (from torchvision>=0.5.0->-r CUT/requirements.txt (line 2)) (11.0.0)\r\n",
      "Requirement already satisfied: scipy in /home/venkat/anaconda3/envs/Hacklytics_Hackathon/lib/python3.12/site-packages (from visdom>=0.1.8.8->-r CUT/requirements.txt (line 4)) (1.15.2)\r\n",
      "Requirement already satisfied: requests in /home/venkat/anaconda3/envs/Hacklytics_Hackathon/lib/python3.12/site-packages (from visdom>=0.1.8.8->-r CUT/requirements.txt (line 4)) (2.32.3)\r\n",
      "Requirement already satisfied: tornado in /home/venkat/anaconda3/envs/Hacklytics_Hackathon/lib/python3.12/site-packages (from visdom>=0.1.8.8->-r CUT/requirements.txt (line 4)) (6.4.2)\r\n",
      "Requirement already satisfied: six in /home/venkat/anaconda3/envs/Hacklytics_Hackathon/lib/python3.12/site-packages (from visdom>=0.1.8.8->-r CUT/requirements.txt (line 4)) (1.17.0)\r\n",
      "Collecting jsonpatch (from visdom>=0.1.8.8->-r CUT/requirements.txt (line 4))\r\n",
      "  Downloading jsonpatch-1.33-py2.py3-none-any.whl.metadata (3.0 kB)\r\n",
      "Requirement already satisfied: websocket-client in /home/venkat/anaconda3/envs/Hacklytics_Hackathon/lib/python3.12/site-packages (from visdom>=0.1.8.8->-r CUT/requirements.txt (line 4)) (1.8.0)\r\n",
      "Requirement already satisfied: MarkupSafe>=2.0 in /home/venkat/anaconda3/envs/Hacklytics_Hackathon/lib/python3.12/site-packages (from jinja2->torch>=1.4.0->-r CUT/requirements.txt (line 1)) (2.1.5)\r\n",
      "Collecting jsonpointer>=1.9 (from jsonpatch->visdom>=0.1.8.8->-r CUT/requirements.txt (line 4))\r\n",
      "  Using cached jsonpointer-3.0.0-py2.py3-none-any.whl.metadata (2.3 kB)\r\n",
      "Requirement already satisfied: charset-normalizer<4,>=2 in /home/venkat/anaconda3/envs/Hacklytics_Hackathon/lib/python3.12/site-packages (from requests->visdom>=0.1.8.8->-r CUT/requirements.txt (line 4)) (3.4.1)\r\n",
      "Requirement already satisfied: idna<4,>=2.5 in /home/venkat/anaconda3/envs/Hacklytics_Hackathon/lib/python3.12/site-packages (from requests->visdom>=0.1.8.8->-r CUT/requirements.txt (line 4)) (3.7)\r\n",
      "Requirement already satisfied: urllib3<3,>=1.21.1 in /home/venkat/anaconda3/envs/Hacklytics_Hackathon/lib/python3.12/site-packages (from requests->visdom>=0.1.8.8->-r CUT/requirements.txt (line 4)) (2.3.0)\r\n",
      "Requirement already satisfied: certifi>=2017.4.17 in /home/venkat/anaconda3/envs/Hacklytics_Hackathon/lib/python3.12/site-packages (from requests->visdom>=0.1.8.8->-r CUT/requirements.txt (line 4)) (2025.1.31)\r\n",
      "Downloading dominate-2.9.1-py2.py3-none-any.whl (29 kB)\r\n",
      "Downloading jsonpatch-1.33-py2.py3-none-any.whl (12 kB)\r\n",
      "Using cached jsonpointer-3.0.0-py2.py3-none-any.whl (7.6 kB)\r\n",
      "Building wheels for collected packages: visdom, GPUtil\r\n",
      "  Building wheel for visdom (setup.py) ... \u001B[?25ldone\r\n",
      "\u001B[?25h  Created wheel for visdom: filename=visdom-0.2.4-py3-none-any.whl size=1408236 sha256=2176e6e881a4d2b9bf0315c32e6b1c52a9cd4626b3b882afa7ee121f5a1ea426\r\n",
      "  Stored in directory: /home/venkat/.cache/pip/wheels/37/6c/38/64eeaa310e325aacda723e6df1f79ab5e9f31ba195264e04a8\r\n",
      "  Building wheel for GPUtil (setup.py) ... \u001B[?25ldone\r\n",
      "\u001B[?25h  Created wheel for GPUtil: filename=GPUtil-1.4.0-py3-none-any.whl size=7432 sha256=1828fb36add3e4fb86775b75056adce61781239202a6176ee1ce0f4d4b42067e\r\n",
      "  Stored in directory: /home/venkat/.cache/pip/wheels/92/a8/b7/d8a067c31a74de9ca252bbe53dea5f896faabd25d55f541037\r\n",
      "Successfully built visdom GPUtil\r\n",
      "Installing collected packages: GPUtil, jsonpointer, dominate, jsonpatch, visdom\r\n",
      "Successfully installed GPUtil-1.4.0 dominate-2.9.1 jsonpatch-1.33 jsonpointer-3.0.0 visdom-0.2.4\r\n"
     ]
    }
   ],
   "execution_count": 6
  },
  {
   "cell_type": "code",
   "metadata": {
    "colab": {
     "base_uri": "https://localhost:8080/"
    },
    "id": "LiljUVmCPbBa",
    "outputId": "16156699-f61a-45a9-dadd-d98e82d51338",
    "jupyter": {
     "is_executing": true
    },
    "ExecuteTime": {
     "start_time": "2025-02-22T23:38:49.964667Z"
    }
   },
   "source": [
    "# Change dataroot if you are running outside colab\n",
    "!python CUT/train.py --dataroot /home/venkat/Documents/Hacklytics_Hackathon/data/ConstraintTest --display_id -1 --name brainscan_FastCUT"
   ],
   "outputs": [
    {
     "name": "stdout",
     "output_type": "stream",
     "text": [
      "----------------- Options ---------------\r\n",
      "                 CUT_mode: FastCUT                       \r\n",
      "               batch_size: 1                             \r\n",
      "                    beta1: 0.5                           \r\n",
      "                    beta2: 0.999                         \r\n",
      "          checkpoints_dir: ./checkpoints                 \r\n",
      "           continue_train: False                         \r\n",
      "                crop_size: 256                           \r\n",
      "                 dataroot: /home/venkat/Documents/Hacklytics_Hackathon/data/ConstraintTest\t[default: placeholder]\r\n",
      "             dataset_mode: unaligned                     \r\n",
      "                direction: AtoB                          \r\n",
      "              display_env: main                          \r\n",
      "             display_freq: 400                           \r\n",
      "               display_id: -1                            \t[default: None]\r\n",
      "            display_ncols: 4                             \r\n",
      "             display_port: 8097                          \r\n",
      "           display_server: http://localhost              \r\n",
      "          display_winsize: 256                           \r\n",
      "               easy_label: experiment_name               \r\n",
      "                    epoch: latest                        \r\n",
      "              epoch_count: 1                             \r\n",
      "          evaluation_freq: 5000                          \r\n",
      "        flip_equivariance: True                          \r\n",
      "                 gan_mode: lsgan                         \r\n",
      "                  gpu_ids: 0                             \r\n",
      "                init_gain: 0.02                          \r\n",
      "                init_type: xavier                        \r\n",
      "                 input_nc: 3                             \r\n",
      "                  isTrain: True                          \t[default: None]\r\n",
      "               lambda_GAN: 1.0                           \r\n",
      "               lambda_NCE: 10.0                          \r\n",
      "                load_size: 286                           \r\n",
      "                       lr: 0.0002                        \r\n",
      "           lr_decay_iters: 50                            \r\n",
      "                lr_policy: linear                        \r\n",
      "         max_dataset_size: inf                           \r\n",
      "                    model: cut                           \r\n",
      "                 n_epochs: 150                           \r\n",
      "           n_epochs_decay: 50                            \r\n",
      "               n_layers_D: 3                             \r\n",
      "                     name: brainscan_FastCUT             \t[default: experiment_name]\r\n",
      "                    nce_T: 0.07                          \r\n",
      "                  nce_idt: False                         \r\n",
      "nce_includes_all_negatives_from_minibatch: False                         \r\n",
      "               nce_layers: 0,4,8,12,16                   \r\n",
      "                      ndf: 64                            \r\n",
      "                     netD: basic                         \r\n",
      "                     netF: mlp_sample                    \r\n",
      "                  netF_nc: 256                           \r\n",
      "                     netG: resnet_9blocks                \r\n",
      "                      ngf: 64                            \r\n",
      "             no_antialias: False                         \r\n",
      "          no_antialias_up: False                         \r\n",
      "               no_dropout: True                          \r\n",
      "                  no_flip: False                         \r\n",
      "                  no_html: False                         \r\n",
      "                    normD: instance                      \r\n",
      "                    normG: instance                      \r\n",
      "              num_patches: 256                           \r\n",
      "              num_threads: 4                             \r\n",
      "                output_nc: 3                             \r\n",
      "                    phase: train                         \r\n",
      "                pool_size: 0                             \r\n",
      "               preprocess: resize_and_crop               \r\n",
      "          pretrained_name: None                          \r\n",
      "               print_freq: 100                           \r\n",
      "         random_scale_max: 3.0                           \r\n",
      "             save_by_iter: False                         \r\n",
      "          save_epoch_freq: 5                             \r\n",
      "         save_latest_freq: 5000                          \r\n",
      "           serial_batches: False                         \r\n",
      "stylegan2_G_num_downsampling: 1                             \r\n",
      "                   suffix:                               \r\n",
      "         update_html_freq: 1000                          \r\n",
      "                  verbose: False                         \r\n",
      "----------------- End -------------------\r\n",
      "dataset [UnalignedDataset] was created\r\n",
      "model [CUTModel] was created\r\n",
      "The number of training images = 13455\r\n",
      "create web directory ./checkpoints/brainscan_FastCUT/web...\r\n",
      "/home/venkat/Documents/Hacklytics_Hackathon/model/CUT/models/networks.py:569: UserWarning: To copy construct from a tensor, it is recommended to use sourceTensor.clone().detach() or sourceTensor.clone().detach().requires_grad_(True), rather than torch.tensor(sourceTensor).\r\n",
      "  patch_id = torch.tensor(patch_id, dtype=torch.long, device=feat.device)\r\n",
      "---------- Networks initialized -------------\r\n",
      "[Network G] Total number of parameters : 11.378 M\r\n",
      "[Network F] Total number of parameters : 0.560 M\r\n",
      "[Network D] Total number of parameters : 2.765 M\r\n",
      "-----------------------------------------------\r\n",
      "(epoch: 1, iters: 100, time: 0.091, data: 0.072) G_GAN: 0.337 D_real: 0.146 D_fake: 0.274 G: 43.061 NCE: 42.723 \r\n",
      "(epoch: 1, iters: 200, time: 0.081, data: 0.001) G_GAN: 0.783 D_real: 0.149 D_fake: 0.026 G: 40.230 NCE: 39.447 \r\n",
      "(epoch: 1, iters: 300, time: 0.075, data: 0.001) G_GAN: 0.778 D_real: 0.044 D_fake: 0.068 G: 44.664 NCE: 43.886 \r\n",
      "(epoch: 1, iters: 400, time: 0.071, data: 0.001) G_GAN: 0.444 D_real: 0.181 D_fake: 0.141 G: 31.154 NCE: 30.710 \r\n"
     ]
    }
   ],
   "execution_count": null
  },
  {
   "cell_type": "code",
   "execution_count": null,
   "metadata": {
    "colab": {
     "base_uri": "https://localhost:8080/"
    },
    "id": "uVI_uMyLo0wY",
    "outputId": "5f5325f5-e064-40a8-e37a-7dfb6459833a"
   },
   "outputs": [
    {
     "name": "stdout",
     "output_type": "stream",
     "text": [
      "testA  testB  trainA  trainB\n"
     ]
    }
   ],
   "source": [
    "!ls /content/drive/MyDrive/ConstraintTest"
   ]
  },
  {
   "cell_type": "code",
   "execution_count": null,
   "metadata": {
    "id": "pE2Wtrcpp4WS"
   },
   "outputs": [],
   "source": []
  },
  {
   "cell_type": "markdown",
   "metadata": {
    "id": "9MBChyC9aRlj"
   },
   "source": []
  },
  {
   "cell_type": "code",
   "execution_count": null,
   "metadata": {
    "id": "jE9fucFkY_z-"
   },
   "outputs": [],
   "source": [
    "!python CUT/train.py --dataroot /content/drive/My\\Drive/ConstraintTest --display_id -1 --name brainscan_FastCUT  --CUT_mode brainscan_FastCUT --phase train"
   ]
  }
 ],
 "metadata": {
  "accelerator": "GPU",
  "colab": {
   "gpuType": "T4",
   "provenance": []
  },
  "kernelspec": {
   "display_name": "Python 3 (ipykernel)",
   "name": "python3",
   "language": "python"
  },
  "language_info": {
   "name": "python"
  }
 },
 "nbformat": 4,
 "nbformat_minor": 0
}
